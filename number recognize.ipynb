{
 "cells": [
  {
   "cell_type": "code",
   "execution_count": 1,
   "metadata": {},
   "outputs": [],
   "source": [
    "from torchvision import datasets\n",
    "from torchvision.transforms import ToTensor\n",
    "\n",
    "\n"
   ]
  },
  {
   "cell_type": "code",
   "execution_count": 2,
   "metadata": {},
   "outputs": [
    {
     "name": "stdout",
     "output_type": "stream",
     "text": [
      "Downloading http://yann.lecun.com/exdb/mnist/train-images-idx3-ubyte.gz\n",
      "Downloading http://yann.lecun.com/exdb/mnist/train-images-idx3-ubyte.gz to data\\MNIST\\raw\\train-images-idx3-ubyte.gz\n"
     ]
    },
    {
     "name": "stderr",
     "output_type": "stream",
     "text": [
      "100%|██████████| 9912422/9912422 [00:03<00:00, 3069547.35it/s]\n"
     ]
    },
    {
     "name": "stdout",
     "output_type": "stream",
     "text": [
      "Extracting data\\MNIST\\raw\\train-images-idx3-ubyte.gz to data\\MNIST\\raw\n",
      "\n",
      "Downloading http://yann.lecun.com/exdb/mnist/train-labels-idx1-ubyte.gz\n",
      "Downloading http://yann.lecun.com/exdb/mnist/train-labels-idx1-ubyte.gz to data\\MNIST\\raw\\train-labels-idx1-ubyte.gz\n"
     ]
    },
    {
     "name": "stderr",
     "output_type": "stream",
     "text": [
      "100%|██████████| 28881/28881 [00:00<00:00, 19764348.80it/s]\n"
     ]
    },
    {
     "name": "stdout",
     "output_type": "stream",
     "text": [
      "Extracting data\\MNIST\\raw\\train-labels-idx1-ubyte.gz to data\\MNIST\\raw\n",
      "\n",
      "Downloading http://yann.lecun.com/exdb/mnist/t10k-images-idx3-ubyte.gz\n",
      "Downloading http://yann.lecun.com/exdb/mnist/t10k-images-idx3-ubyte.gz to data\\MNIST\\raw\\t10k-images-idx3-ubyte.gz\n"
     ]
    },
    {
     "name": "stderr",
     "output_type": "stream",
     "text": [
      "100%|██████████| 1648877/1648877 [00:00<00:00, 3989691.82it/s]\n"
     ]
    },
    {
     "name": "stdout",
     "output_type": "stream",
     "text": [
      "Extracting data\\MNIST\\raw\\t10k-images-idx3-ubyte.gz to data\\MNIST\\raw\n",
      "\n",
      "Downloading http://yann.lecun.com/exdb/mnist/t10k-labels-idx1-ubyte.gz\n",
      "Downloading http://yann.lecun.com/exdb/mnist/t10k-labels-idx1-ubyte.gz to data\\MNIST\\raw\\t10k-labels-idx1-ubyte.gz\n"
     ]
    },
    {
     "name": "stderr",
     "output_type": "stream",
     "text": [
      "100%|██████████| 4542/4542 [00:00<00:00, 290701.31it/s]"
     ]
    },
    {
     "name": "stdout",
     "output_type": "stream",
     "text": [
      "Extracting data\\MNIST\\raw\\t10k-labels-idx1-ubyte.gz to data\\MNIST\\raw\n",
      "\n"
     ]
    },
    {
     "name": "stderr",
     "output_type": "stream",
     "text": [
      "\n"
     ]
    }
   ],
   "source": [
    "train_data = datasets.MNIST(\n",
    "    root = 'data',\n",
    "    train  = True ,\n",
    "    transform= ToTensor(),\n",
    "    download= True \n",
    "\n",
    ")\n",
    "test_data = datasets.MNIST(\n",
    "    root = 'data',\n",
    "    train  = False ,\n",
    "    transform= ToTensor(),\n",
    "    download= True \n",
    "\n",
    ")"
   ]
  },
  {
   "cell_type": "code",
   "execution_count": 3,
   "metadata": {},
   "outputs": [
    {
     "data": {
      "text/plain": [
       "Dataset MNIST\n",
       "    Number of datapoints: 60000\n",
       "    Root location: data\n",
       "    Split: Train\n",
       "    StandardTransform\n",
       "Transform: ToTensor()"
      ]
     },
     "execution_count": 3,
     "metadata": {},
     "output_type": "execute_result"
    }
   ],
   "source": [
    "train_data"
   ]
  },
  {
   "cell_type": "code",
   "execution_count": 4,
   "metadata": {},
   "outputs": [
    {
     "data": {
      "text/plain": [
       "Dataset MNIST\n",
       "    Number of datapoints: 10000\n",
       "    Root location: data\n",
       "    Split: Test\n",
       "    StandardTransform\n",
       "Transform: ToTensor()"
      ]
     },
     "execution_count": 4,
     "metadata": {},
     "output_type": "execute_result"
    }
   ],
   "source": [
    "test_data"
   ]
  },
  {
   "cell_type": "code",
   "execution_count": 5,
   "metadata": {},
   "outputs": [
    {
     "data": {
      "text/plain": [
       "torch.Size([60000, 28, 28])"
      ]
     },
     "execution_count": 5,
     "metadata": {},
     "output_type": "execute_result"
    }
   ],
   "source": [
    "train_data.data.shape"
   ]
  },
  {
   "cell_type": "code",
   "execution_count": 6,
   "metadata": {},
   "outputs": [
    {
     "data": {
      "text/plain": [
       "torch.Size([60000])"
      ]
     },
     "execution_count": 6,
     "metadata": {},
     "output_type": "execute_result"
    }
   ],
   "source": [
    "train_data.targets.size()\n"
   ]
  },
  {
   "cell_type": "code",
   "execution_count": 7,
   "metadata": {},
   "outputs": [
    {
     "data": {
      "text/plain": [
       "tensor([5, 0, 4,  ..., 5, 6, 8])"
      ]
     },
     "execution_count": 7,
     "metadata": {},
     "output_type": "execute_result"
    }
   ],
   "source": [
    "train_data.targets\n"
   ]
  },
  {
   "cell_type": "code",
   "execution_count": 11,
   "metadata": {},
   "outputs": [],
   "source": [
    "from torch.utils.data import DataLoader\n",
    "\n",
    "loaders = {\n",
    "    'train' : DataLoader(train_data,\n",
    "                         batch_size=100,\n",
    "                         shuffle=True,\n",
    "                         num_workers=1),\n",
    "    'test' : DataLoader(test_data,\n",
    "                         batch_size=100,\n",
    "                         shuffle=True,\n",
    "                         num_workers=1),                    \n",
    "}"
   ]
  },
  {
   "cell_type": "code",
   "execution_count": 12,
   "metadata": {},
   "outputs": [
    {
     "data": {
      "text/plain": [
       "{'train': <torch.utils.data.dataloader.DataLoader at 0x176a0af3ed0>,\n",
       " 'test': <torch.utils.data.dataloader.DataLoader at 0x176a0af2810>}"
      ]
     },
     "execution_count": 12,
     "metadata": {},
     "output_type": "execute_result"
    }
   ],
   "source": [
    "loaders"
   ]
  },
  {
   "cell_type": "code",
   "execution_count": 13,
   "metadata": {},
   "outputs": [],
   "source": [
    "import torch.nn as nn\n",
    "import torch.nn.functional as F\n",
    "import torch.optim as optim\n",
    "\n",
    "\n",
    "class CNN(nn.Module):\n",
    "    def __init__(self):\n",
    "        super(CNN,self).__init__()\n",
    "\n",
    "        self.conv1 = nn.Conv2d(1,10,kernel_size=5)\n",
    "        self.conv2 = nn.Conv2d(10,20,kernel_size=5)\n",
    "        self.conv2_drop = nn.Dropout2d()\n",
    "        self.fc1 = nn.Linear(320,50)\n",
    "        self.fc2 = nn.Linear(50,10)\n",
    "\n",
    "    def forward(self, x):\n",
    "        x = F.relu(F.max_pool2d (self.conv1(x), 2))\n",
    "        x = F.relu(F.max_pool2d(self.conv2_drop(self.conv2(x)), 2))\n",
    "        x = x.view(-1, 320)\n",
    "        x = F.relu(self.fc1(x))\n",
    "        x = F.dropout(x, training=self.training)\n",
    "        x = self.fc2 (x)\n",
    "        return F.softmax (x)   \n",
    "\n"
   ]
  },
  {
   "cell_type": "code",
   "execution_count": 27,
   "metadata": {},
   "outputs": [],
   "source": [
    "import torch\n",
    "\n",
    "device = torch.device('cuda' if torch. cuda.is_available() else 'cpu')\n",
    "\n",
    "model = CNN ().to (device)\n",
    "\n",
    "optimizer = optim. Adam (model.parameters(), lr=0.001)\n",
    "\n",
    "loss_fn = nn. CrossEntropyLoss ()\n",
    "\n",
    "def train(epoch):\n",
    "      model. train()\n",
    "      for batch_idx, (data, target) in enumerate(loaders['train']):\n",
    "            data, target = data.to (device), target.to (device)\n",
    "            optimizer. zero_grad()\n",
    "            output = model (data)\n",
    "            loss  = loss_fn (output, target)\n",
    "            loss.backward()\n",
    "            optimizer.step()\n",
    "            if batch_idx % 20 == 0:\n",
    "               print(f'Train Epoch: {epoch} [{batch_idx * len(data)}/{len(loaders[\"train\"].dataset)} ({100. * batch_idx / len(loaders[\"train\"]):.2f}%)]\\t{loss.item():.6f}')\n",
    "\n",
    "def test():\n",
    "      model.eval()\n",
    "\n",
    "      test_loss = 0 \n",
    "      correct = 0 \n",
    "\n",
    "      with torch.no_grad():\n",
    "            for data,target in loaders['test']:\n",
    "                data , target = data.to(device),target.to(device)\n",
    "                output = model(data)\n",
    "                test_loss += loss_fn(output,target).item()\n",
    "                pred = output.argmax(dim = 1,keepdim = True)\n",
    "                correct += pred.eq(target.view_as(pred)).sum().item()\n",
    "      test_loss /= len(loaders['test'].dataset)\n",
    "      print(f'\\nTest set : Average loss : {test_loss:.4f} , Accuracy {correct}/{len(loaders[\"test\"].dataset)}({100. *correct / len(loaders[\"test\"].dataset):.0f}%\\n)')"
   ]
  },
  {
   "cell_type": "code",
   "execution_count": 28,
   "metadata": {},
   "outputs": [
    {
     "name": "stderr",
     "output_type": "stream",
     "text": [
      "C:\\Users\\vedan\\AppData\\Local\\Temp\\ipykernel_7996\\1595551324.py:23: UserWarning: Implicit dimension choice for softmax has been deprecated. Change the call to include dim=X as an argument.\n",
      "  return F.softmax (x)\n"
     ]
    },
    {
     "name": "stdout",
     "output_type": "stream",
     "text": [
      "Train Epoch: 1 [0/60000 (0.00%)]\t2.303475\n",
      "Train Epoch: 1 [2000/60000 (3.33%)]\t2.274442\n",
      "Train Epoch: 1 [4000/60000 (6.67%)]\t2.110394\n",
      "Train Epoch: 1 [6000/60000 (10.00%)]\t1.998144\n",
      "Train Epoch: 1 [8000/60000 (13.33%)]\t1.891483\n",
      "Train Epoch: 1 [10000/60000 (16.67%)]\t1.830171\n",
      "Train Epoch: 1 [12000/60000 (20.00%)]\t1.835040\n",
      "Train Epoch: 1 [14000/60000 (23.33%)]\t1.814173\n",
      "Train Epoch: 1 [16000/60000 (26.67%)]\t1.755191\n",
      "Train Epoch: 1 [18000/60000 (30.00%)]\t1.775133\n",
      "Train Epoch: 1 [20000/60000 (33.33%)]\t1.751938\n",
      "Train Epoch: 1 [22000/60000 (36.67%)]\t1.665492\n",
      "Train Epoch: 1 [24000/60000 (40.00%)]\t1.745902\n",
      "Train Epoch: 1 [26000/60000 (43.33%)]\t1.725582\n",
      "Train Epoch: 1 [28000/60000 (46.67%)]\t1.761594\n",
      "Train Epoch: 1 [30000/60000 (50.00%)]\t1.678068\n",
      "Train Epoch: 1 [32000/60000 (53.33%)]\t1.656273\n",
      "Train Epoch: 1 [34000/60000 (56.67%)]\t1.695660\n",
      "Train Epoch: 1 [36000/60000 (60.00%)]\t1.677936\n",
      "Train Epoch: 1 [38000/60000 (63.33%)]\t1.636839\n",
      "Train Epoch: 1 [40000/60000 (66.67%)]\t1.721595\n",
      "Train Epoch: 1 [42000/60000 (70.00%)]\t1.634837\n",
      "Train Epoch: 1 [44000/60000 (73.33%)]\t1.657596\n",
      "Train Epoch: 1 [46000/60000 (76.67%)]\t1.692946\n",
      "Train Epoch: 1 [48000/60000 (80.00%)]\t1.704594\n",
      "Train Epoch: 1 [50000/60000 (83.33%)]\t1.632801\n",
      "Train Epoch: 1 [52000/60000 (86.67%)]\t1.692426\n",
      "Train Epoch: 1 [54000/60000 (90.00%)]\t1.699570\n",
      "Train Epoch: 1 [56000/60000 (93.33%)]\t1.634802\n",
      "Train Epoch: 1 [58000/60000 (96.67%)]\t1.616362\n",
      "\n",
      "Test set : Average loss : 0.0154 , Accuracy 9291/10000(93%\n",
      ")\n",
      "Train Epoch: 2 [0/60000 (0.00%)]\t1.637005\n",
      "Train Epoch: 2 [2000/60000 (3.33%)]\t1.591230\n",
      "Train Epoch: 2 [4000/60000 (6.67%)]\t1.616052\n",
      "Train Epoch: 2 [6000/60000 (10.00%)]\t1.584163\n",
      "Train Epoch: 2 [8000/60000 (13.33%)]\t1.613357\n",
      "Train Epoch: 2 [10000/60000 (16.67%)]\t1.587259\n",
      "Train Epoch: 2 [12000/60000 (20.00%)]\t1.607353\n",
      "Train Epoch: 2 [14000/60000 (23.33%)]\t1.604492\n",
      "Train Epoch: 2 [16000/60000 (26.67%)]\t1.612296\n",
      "Train Epoch: 2 [18000/60000 (30.00%)]\t1.561331\n",
      "Train Epoch: 2 [20000/60000 (33.33%)]\t1.527448\n",
      "Train Epoch: 2 [22000/60000 (36.67%)]\t1.551915\n",
      "Train Epoch: 2 [24000/60000 (40.00%)]\t1.592740\n",
      "Train Epoch: 2 [26000/60000 (43.33%)]\t1.557093\n",
      "Train Epoch: 2 [28000/60000 (46.67%)]\t1.601600\n",
      "Train Epoch: 2 [30000/60000 (50.00%)]\t1.605880\n",
      "Train Epoch: 2 [32000/60000 (53.33%)]\t1.587191\n",
      "Train Epoch: 2 [34000/60000 (56.67%)]\t1.606534\n",
      "Train Epoch: 2 [36000/60000 (60.00%)]\t1.554530\n",
      "Train Epoch: 2 [38000/60000 (63.33%)]\t1.551498\n",
      "Train Epoch: 2 [40000/60000 (66.67%)]\t1.555494\n",
      "Train Epoch: 2 [42000/60000 (70.00%)]\t1.558533\n",
      "Train Epoch: 2 [44000/60000 (73.33%)]\t1.639136\n",
      "Train Epoch: 2 [46000/60000 (76.67%)]\t1.556943\n",
      "Train Epoch: 2 [48000/60000 (80.00%)]\t1.585521\n",
      "Train Epoch: 2 [50000/60000 (83.33%)]\t1.548870\n",
      "Train Epoch: 2 [52000/60000 (86.67%)]\t1.532154\n",
      "Train Epoch: 2 [54000/60000 (90.00%)]\t1.499884\n",
      "Train Epoch: 2 [56000/60000 (93.33%)]\t1.569707\n",
      "Train Epoch: 2 [58000/60000 (96.67%)]\t1.614261\n",
      "\n",
      "Test set : Average loss : 0.0151 , Accuracy 9489/10000(95%\n",
      ")\n",
      "Train Epoch: 3 [0/60000 (0.00%)]\t1.573891\n",
      "Train Epoch: 3 [2000/60000 (3.33%)]\t1.567528\n",
      "Train Epoch: 3 [4000/60000 (6.67%)]\t1.585476\n",
      "Train Epoch: 3 [6000/60000 (10.00%)]\t1.559332\n",
      "Train Epoch: 3 [8000/60000 (13.33%)]\t1.587824\n",
      "Train Epoch: 3 [10000/60000 (16.67%)]\t1.570973\n",
      "Train Epoch: 3 [12000/60000 (20.00%)]\t1.614930\n",
      "Train Epoch: 3 [14000/60000 (23.33%)]\t1.587672\n",
      "Train Epoch: 3 [16000/60000 (26.67%)]\t1.594651\n",
      "Train Epoch: 3 [18000/60000 (30.00%)]\t1.591121\n",
      "Train Epoch: 3 [20000/60000 (33.33%)]\t1.587492\n",
      "Train Epoch: 3 [22000/60000 (36.67%)]\t1.580484\n",
      "Train Epoch: 3 [24000/60000 (40.00%)]\t1.527614\n",
      "Train Epoch: 3 [26000/60000 (43.33%)]\t1.559854\n",
      "Train Epoch: 3 [28000/60000 (46.67%)]\t1.559552\n",
      "Train Epoch: 3 [30000/60000 (50.00%)]\t1.536679\n",
      "Train Epoch: 3 [32000/60000 (53.33%)]\t1.552782\n",
      "Train Epoch: 3 [34000/60000 (56.67%)]\t1.600870\n",
      "Train Epoch: 3 [36000/60000 (60.00%)]\t1.577952\n",
      "Train Epoch: 3 [38000/60000 (63.33%)]\t1.548321\n",
      "Train Epoch: 3 [40000/60000 (66.67%)]\t1.574360\n",
      "Train Epoch: 3 [42000/60000 (70.00%)]\t1.576665\n",
      "Train Epoch: 3 [44000/60000 (73.33%)]\t1.537328\n",
      "Train Epoch: 3 [46000/60000 (76.67%)]\t1.544431\n",
      "Train Epoch: 3 [48000/60000 (80.00%)]\t1.549432\n",
      "Train Epoch: 3 [50000/60000 (83.33%)]\t1.571462\n",
      "Train Epoch: 3 [52000/60000 (86.67%)]\t1.537496\n",
      "Train Epoch: 3 [54000/60000 (90.00%)]\t1.554852\n",
      "Train Epoch: 3 [56000/60000 (93.33%)]\t1.530661\n",
      "Train Epoch: 3 [58000/60000 (96.67%)]\t1.656341\n",
      "\n",
      "Test set : Average loss : 0.0150 , Accuracy 9583/10000(96%\n",
      ")\n",
      "Train Epoch: 4 [0/60000 (0.00%)]\t1.503825\n",
      "Train Epoch: 4 [2000/60000 (3.33%)]\t1.555668\n",
      "Train Epoch: 4 [4000/60000 (6.67%)]\t1.588442\n",
      "Train Epoch: 4 [6000/60000 (10.00%)]\t1.560144\n",
      "Train Epoch: 4 [8000/60000 (13.33%)]\t1.555939\n",
      "Train Epoch: 4 [10000/60000 (16.67%)]\t1.543883\n",
      "Train Epoch: 4 [12000/60000 (20.00%)]\t1.542567\n",
      "Train Epoch: 4 [14000/60000 (23.33%)]\t1.514899\n",
      "Train Epoch: 4 [16000/60000 (26.67%)]\t1.536622\n",
      "Train Epoch: 4 [18000/60000 (30.00%)]\t1.531953\n",
      "Train Epoch: 4 [20000/60000 (33.33%)]\t1.606828\n",
      "Train Epoch: 4 [22000/60000 (36.67%)]\t1.594372\n",
      "Train Epoch: 4 [24000/60000 (40.00%)]\t1.537949\n",
      "Train Epoch: 4 [26000/60000 (43.33%)]\t1.544624\n",
      "Train Epoch: 4 [28000/60000 (46.67%)]\t1.567214\n",
      "Train Epoch: 4 [30000/60000 (50.00%)]\t1.566281\n",
      "Train Epoch: 4 [32000/60000 (53.33%)]\t1.534218\n",
      "Train Epoch: 4 [34000/60000 (56.67%)]\t1.529200\n",
      "Train Epoch: 4 [36000/60000 (60.00%)]\t1.609143\n",
      "Train Epoch: 4 [38000/60000 (63.33%)]\t1.595674\n",
      "Train Epoch: 4 [40000/60000 (66.67%)]\t1.609921\n",
      "Train Epoch: 4 [42000/60000 (70.00%)]\t1.526719\n",
      "Train Epoch: 4 [44000/60000 (73.33%)]\t1.561398\n",
      "Train Epoch: 4 [46000/60000 (76.67%)]\t1.518027\n",
      "Train Epoch: 4 [48000/60000 (80.00%)]\t1.546510\n",
      "Train Epoch: 4 [50000/60000 (83.33%)]\t1.539744\n",
      "Train Epoch: 4 [52000/60000 (86.67%)]\t1.544426\n",
      "Train Epoch: 4 [54000/60000 (90.00%)]\t1.522564\n",
      "Train Epoch: 4 [56000/60000 (93.33%)]\t1.543161\n",
      "Train Epoch: 4 [58000/60000 (96.67%)]\t1.518147\n",
      "\n",
      "Test set : Average loss : 0.0150 , Accuracy 9627/10000(96%\n",
      ")\n",
      "Train Epoch: 5 [0/60000 (0.00%)]\t1.583594\n",
      "Train Epoch: 5 [2000/60000 (3.33%)]\t1.553095\n",
      "Train Epoch: 5 [4000/60000 (6.67%)]\t1.529512\n",
      "Train Epoch: 5 [6000/60000 (10.00%)]\t1.535765\n",
      "Train Epoch: 5 [8000/60000 (13.33%)]\t1.526322\n",
      "Train Epoch: 5 [10000/60000 (16.67%)]\t1.580396\n",
      "Train Epoch: 5 [12000/60000 (20.00%)]\t1.491687\n",
      "Train Epoch: 5 [14000/60000 (23.33%)]\t1.587907\n",
      "Train Epoch: 5 [16000/60000 (26.67%)]\t1.506293\n",
      "Train Epoch: 5 [18000/60000 (30.00%)]\t1.569811\n",
      "Train Epoch: 5 [20000/60000 (33.33%)]\t1.544917\n",
      "Train Epoch: 5 [22000/60000 (36.67%)]\t1.556062\n",
      "Train Epoch: 5 [24000/60000 (40.00%)]\t1.516174\n",
      "Train Epoch: 5 [26000/60000 (43.33%)]\t1.499050\n",
      "Train Epoch: 5 [28000/60000 (46.67%)]\t1.555173\n",
      "Train Epoch: 5 [30000/60000 (50.00%)]\t1.539078\n",
      "Train Epoch: 5 [32000/60000 (53.33%)]\t1.523148\n",
      "Train Epoch: 5 [34000/60000 (56.67%)]\t1.537617\n",
      "Train Epoch: 5 [36000/60000 (60.00%)]\t1.518031\n",
      "Train Epoch: 5 [38000/60000 (63.33%)]\t1.493227\n",
      "Train Epoch: 5 [40000/60000 (66.67%)]\t1.517824\n",
      "Train Epoch: 5 [42000/60000 (70.00%)]\t1.561034\n",
      "Train Epoch: 5 [44000/60000 (73.33%)]\t1.507342\n",
      "Train Epoch: 5 [46000/60000 (76.67%)]\t1.545432\n",
      "Train Epoch: 5 [48000/60000 (80.00%)]\t1.564389\n",
      "Train Epoch: 5 [50000/60000 (83.33%)]\t1.557684\n",
      "Train Epoch: 5 [52000/60000 (86.67%)]\t1.537448\n",
      "Train Epoch: 5 [54000/60000 (90.00%)]\t1.526791\n",
      "Train Epoch: 5 [56000/60000 (93.33%)]\t1.558607\n",
      "Train Epoch: 5 [58000/60000 (96.67%)]\t1.497230\n",
      "\n",
      "Test set : Average loss : 0.0149 , Accuracy 9673/10000(97%\n",
      ")\n",
      "Train Epoch: 6 [0/60000 (0.00%)]\t1.507326\n",
      "Train Epoch: 6 [2000/60000 (3.33%)]\t1.502494\n",
      "Train Epoch: 6 [4000/60000 (6.67%)]\t1.518693\n",
      "Train Epoch: 6 [6000/60000 (10.00%)]\t1.543576\n",
      "Train Epoch: 6 [8000/60000 (13.33%)]\t1.571657\n",
      "Train Epoch: 6 [10000/60000 (16.67%)]\t1.502126\n",
      "Train Epoch: 6 [12000/60000 (20.00%)]\t1.500486\n",
      "Train Epoch: 6 [14000/60000 (23.33%)]\t1.584276\n",
      "Train Epoch: 6 [16000/60000 (26.67%)]\t1.538914\n",
      "Train Epoch: 6 [18000/60000 (30.00%)]\t1.571025\n",
      "Train Epoch: 6 [20000/60000 (33.33%)]\t1.511738\n",
      "Train Epoch: 6 [22000/60000 (36.67%)]\t1.521172\n",
      "Train Epoch: 6 [24000/60000 (40.00%)]\t1.555750\n",
      "Train Epoch: 6 [26000/60000 (43.33%)]\t1.514997\n",
      "Train Epoch: 6 [28000/60000 (46.67%)]\t1.525093\n",
      "Train Epoch: 6 [30000/60000 (50.00%)]\t1.540916\n",
      "Train Epoch: 6 [32000/60000 (53.33%)]\t1.507753\n",
      "Train Epoch: 6 [34000/60000 (56.67%)]\t1.565008\n",
      "Train Epoch: 6 [36000/60000 (60.00%)]\t1.560825\n",
      "Train Epoch: 6 [38000/60000 (63.33%)]\t1.540327\n",
      "Train Epoch: 6 [40000/60000 (66.67%)]\t1.557491\n",
      "Train Epoch: 6 [42000/60000 (70.00%)]\t1.546008\n",
      "Train Epoch: 6 [44000/60000 (73.33%)]\t1.570050\n",
      "Train Epoch: 6 [46000/60000 (76.67%)]\t1.525167\n",
      "Train Epoch: 6 [48000/60000 (80.00%)]\t1.518298\n",
      "Train Epoch: 6 [50000/60000 (83.33%)]\t1.509475\n",
      "Train Epoch: 6 [52000/60000 (86.67%)]\t1.530653\n",
      "Train Epoch: 6 [54000/60000 (90.00%)]\t1.590377\n",
      "Train Epoch: 6 [56000/60000 (93.33%)]\t1.530872\n",
      "Train Epoch: 6 [58000/60000 (96.67%)]\t1.553496\n",
      "\n",
      "Test set : Average loss : 0.0149 , Accuracy 9673/10000(97%\n",
      ")\n",
      "Train Epoch: 7 [0/60000 (0.00%)]\t1.493901\n",
      "Train Epoch: 7 [2000/60000 (3.33%)]\t1.531378\n",
      "Train Epoch: 7 [4000/60000 (6.67%)]\t1.532913\n",
      "Train Epoch: 7 [6000/60000 (10.00%)]\t1.544891\n",
      "Train Epoch: 7 [8000/60000 (13.33%)]\t1.533559\n",
      "Train Epoch: 7 [10000/60000 (16.67%)]\t1.590462\n",
      "Train Epoch: 7 [12000/60000 (20.00%)]\t1.534885\n",
      "Train Epoch: 7 [14000/60000 (23.33%)]\t1.530526\n",
      "Train Epoch: 7 [16000/60000 (26.67%)]\t1.528809\n",
      "Train Epoch: 7 [18000/60000 (30.00%)]\t1.518327\n",
      "Train Epoch: 7 [20000/60000 (33.33%)]\t1.501077\n",
      "Train Epoch: 7 [22000/60000 (36.67%)]\t1.541938\n",
      "Train Epoch: 7 [24000/60000 (40.00%)]\t1.503229\n",
      "Train Epoch: 7 [26000/60000 (43.33%)]\t1.507440\n",
      "Train Epoch: 7 [28000/60000 (46.67%)]\t1.530354\n",
      "Train Epoch: 7 [30000/60000 (50.00%)]\t1.503394\n",
      "Train Epoch: 7 [32000/60000 (53.33%)]\t1.476467\n",
      "Train Epoch: 7 [34000/60000 (56.67%)]\t1.538398\n",
      "Train Epoch: 7 [36000/60000 (60.00%)]\t1.526713\n",
      "Train Epoch: 7 [38000/60000 (63.33%)]\t1.536862\n",
      "Train Epoch: 7 [40000/60000 (66.67%)]\t1.503995\n",
      "Train Epoch: 7 [42000/60000 (70.00%)]\t1.513873\n",
      "Train Epoch: 7 [44000/60000 (73.33%)]\t1.549639\n",
      "Train Epoch: 7 [46000/60000 (76.67%)]\t1.521393\n",
      "Train Epoch: 7 [48000/60000 (80.00%)]\t1.505023\n",
      "Train Epoch: 7 [50000/60000 (83.33%)]\t1.541557\n",
      "Train Epoch: 7 [52000/60000 (86.67%)]\t1.518392\n",
      "Train Epoch: 7 [54000/60000 (90.00%)]\t1.538023\n",
      "Train Epoch: 7 [56000/60000 (93.33%)]\t1.554942\n",
      "Train Epoch: 7 [58000/60000 (96.67%)]\t1.548499\n",
      "\n",
      "Test set : Average loss : 0.0149 , Accuracy 9709/10000(97%\n",
      ")\n",
      "Train Epoch: 8 [0/60000 (0.00%)]\t1.534327\n",
      "Train Epoch: 8 [2000/60000 (3.33%)]\t1.534942\n",
      "Train Epoch: 8 [4000/60000 (6.67%)]\t1.539446\n",
      "Train Epoch: 8 [6000/60000 (10.00%)]\t1.536073\n",
      "Train Epoch: 8 [8000/60000 (13.33%)]\t1.513010\n",
      "Train Epoch: 8 [10000/60000 (16.67%)]\t1.540502\n",
      "Train Epoch: 8 [12000/60000 (20.00%)]\t1.498660\n",
      "Train Epoch: 8 [14000/60000 (23.33%)]\t1.510955\n",
      "Train Epoch: 8 [16000/60000 (26.67%)]\t1.528821\n",
      "Train Epoch: 8 [18000/60000 (30.00%)]\t1.519190\n",
      "Train Epoch: 8 [20000/60000 (33.33%)]\t1.501874\n",
      "Train Epoch: 8 [22000/60000 (36.67%)]\t1.514455\n",
      "Train Epoch: 8 [24000/60000 (40.00%)]\t1.485191\n",
      "Train Epoch: 8 [26000/60000 (43.33%)]\t1.564430\n",
      "Train Epoch: 8 [28000/60000 (46.67%)]\t1.574741\n",
      "Train Epoch: 8 [30000/60000 (50.00%)]\t1.506067\n",
      "Train Epoch: 8 [32000/60000 (53.33%)]\t1.547735\n",
      "Train Epoch: 8 [34000/60000 (56.67%)]\t1.496271\n",
      "Train Epoch: 8 [36000/60000 (60.00%)]\t1.562316\n",
      "Train Epoch: 8 [38000/60000 (63.33%)]\t1.516761\n",
      "Train Epoch: 8 [40000/60000 (66.67%)]\t1.508990\n",
      "Train Epoch: 8 [42000/60000 (70.00%)]\t1.509640\n",
      "Train Epoch: 8 [44000/60000 (73.33%)]\t1.531440\n",
      "Train Epoch: 8 [46000/60000 (76.67%)]\t1.538599\n",
      "Train Epoch: 8 [48000/60000 (80.00%)]\t1.551468\n",
      "Train Epoch: 8 [50000/60000 (83.33%)]\t1.528040\n",
      "Train Epoch: 8 [52000/60000 (86.67%)]\t1.514369\n",
      "Train Epoch: 8 [54000/60000 (90.00%)]\t1.490765\n",
      "Train Epoch: 8 [56000/60000 (93.33%)]\t1.522724\n",
      "Train Epoch: 8 [58000/60000 (96.67%)]\t1.560260\n",
      "\n",
      "Test set : Average loss : 0.0149 , Accuracy 9693/10000(97%\n",
      ")\n",
      "Train Epoch: 9 [0/60000 (0.00%)]\t1.539034\n",
      "Train Epoch: 9 [2000/60000 (3.33%)]\t1.505244\n",
      "Train Epoch: 9 [4000/60000 (6.67%)]\t1.570237\n",
      "Train Epoch: 9 [6000/60000 (10.00%)]\t1.508277\n",
      "Train Epoch: 9 [8000/60000 (13.33%)]\t1.498593\n",
      "Train Epoch: 9 [10000/60000 (16.67%)]\t1.503070\n",
      "Train Epoch: 9 [12000/60000 (20.00%)]\t1.528606\n",
      "Train Epoch: 9 [14000/60000 (23.33%)]\t1.533834\n",
      "Train Epoch: 9 [16000/60000 (26.67%)]\t1.527264\n",
      "Train Epoch: 9 [18000/60000 (30.00%)]\t1.511249\n",
      "Train Epoch: 9 [20000/60000 (33.33%)]\t1.570008\n",
      "Train Epoch: 9 [22000/60000 (36.67%)]\t1.520491\n",
      "Train Epoch: 9 [24000/60000 (40.00%)]\t1.552594\n",
      "Train Epoch: 9 [26000/60000 (43.33%)]\t1.540890\n",
      "Train Epoch: 9 [28000/60000 (46.67%)]\t1.571055\n",
      "Train Epoch: 9 [30000/60000 (50.00%)]\t1.496717\n",
      "Train Epoch: 9 [32000/60000 (53.33%)]\t1.510282\n",
      "Train Epoch: 9 [34000/60000 (56.67%)]\t1.519907\n",
      "Train Epoch: 9 [36000/60000 (60.00%)]\t1.569373\n",
      "Train Epoch: 9 [38000/60000 (63.33%)]\t1.559332\n",
      "Train Epoch: 9 [40000/60000 (66.67%)]\t1.521867\n",
      "Train Epoch: 9 [42000/60000 (70.00%)]\t1.512856\n",
      "Train Epoch: 9 [44000/60000 (73.33%)]\t1.505169\n",
      "Train Epoch: 9 [46000/60000 (76.67%)]\t1.559136\n",
      "Train Epoch: 9 [48000/60000 (80.00%)]\t1.507309\n",
      "Train Epoch: 9 [50000/60000 (83.33%)]\t1.492464\n",
      "Train Epoch: 9 [52000/60000 (86.67%)]\t1.532347\n",
      "Train Epoch: 9 [54000/60000 (90.00%)]\t1.517318\n",
      "Train Epoch: 9 [56000/60000 (93.33%)]\t1.524152\n",
      "Train Epoch: 9 [58000/60000 (96.67%)]\t1.501501\n",
      "\n",
      "Test set : Average loss : 0.0149 , Accuracy 9725/10000(97%\n",
      ")\n",
      "Train Epoch: 10 [0/60000 (0.00%)]\t1.505604\n",
      "Train Epoch: 10 [2000/60000 (3.33%)]\t1.552973\n",
      "Train Epoch: 10 [4000/60000 (6.67%)]\t1.549218\n",
      "Train Epoch: 10 [6000/60000 (10.00%)]\t1.548455\n",
      "Train Epoch: 10 [8000/60000 (13.33%)]\t1.490854\n",
      "Train Epoch: 10 [10000/60000 (16.67%)]\t1.516046\n",
      "Train Epoch: 10 [12000/60000 (20.00%)]\t1.522184\n",
      "Train Epoch: 10 [14000/60000 (23.33%)]\t1.494061\n",
      "Train Epoch: 10 [16000/60000 (26.67%)]\t1.505396\n",
      "Train Epoch: 10 [18000/60000 (30.00%)]\t1.504603\n",
      "Train Epoch: 10 [20000/60000 (33.33%)]\t1.518354\n",
      "Train Epoch: 10 [22000/60000 (36.67%)]\t1.515174\n",
      "Train Epoch: 10 [24000/60000 (40.00%)]\t1.547826\n",
      "Train Epoch: 10 [26000/60000 (43.33%)]\t1.552522\n",
      "Train Epoch: 10 [28000/60000 (46.67%)]\t1.553708\n",
      "Train Epoch: 10 [30000/60000 (50.00%)]\t1.582668\n",
      "Train Epoch: 10 [32000/60000 (53.33%)]\t1.503541\n",
      "Train Epoch: 10 [34000/60000 (56.67%)]\t1.515325\n",
      "Train Epoch: 10 [36000/60000 (60.00%)]\t1.545131\n",
      "Train Epoch: 10 [38000/60000 (63.33%)]\t1.533165\n",
      "Train Epoch: 10 [40000/60000 (66.67%)]\t1.527193\n",
      "Train Epoch: 10 [42000/60000 (70.00%)]\t1.558651\n",
      "Train Epoch: 10 [44000/60000 (73.33%)]\t1.554660\n",
      "Train Epoch: 10 [46000/60000 (76.67%)]\t1.542809\n",
      "Train Epoch: 10 [48000/60000 (80.00%)]\t1.560709\n",
      "Train Epoch: 10 [50000/60000 (83.33%)]\t1.530650\n",
      "Train Epoch: 10 [52000/60000 (86.67%)]\t1.534308\n",
      "Train Epoch: 10 [54000/60000 (90.00%)]\t1.529016\n",
      "Train Epoch: 10 [56000/60000 (93.33%)]\t1.551163\n",
      "Train Epoch: 10 [58000/60000 (96.67%)]\t1.523910\n",
      "\n",
      "Test set : Average loss : 0.0149 , Accuracy 9746/10000(97%\n",
      ")\n"
     ]
    }
   ],
   "source": [
    "for epoch in range(1, 11):\n",
    "    train(epoch)\n",
    "    test()"
   ]
  },
  {
   "cell_type": "code",
   "execution_count": 30,
   "metadata": {},
   "outputs": [
    {
     "data": {
      "text/plain": [
       "device(type='cpu')"
      ]
     },
     "execution_count": 30,
     "metadata": {},
     "output_type": "execute_result"
    }
   ],
   "source": [
    "device"
   ]
  },
  {
   "cell_type": "code",
   "execution_count": 44,
   "metadata": {},
   "outputs": [
    {
     "name": "stdout",
     "output_type": "stream",
     "text": [
      "Prediction : 4\n"
     ]
    },
    {
     "name": "stderr",
     "output_type": "stream",
     "text": [
      "C:\\Users\\vedan\\AppData\\Local\\Temp\\ipykernel_7996\\1595551324.py:23: UserWarning: Implicit dimension choice for softmax has been deprecated. Change the call to include dim=X as an argument.\n",
      "  return F.softmax (x)\n"
     ]
    },
    {
     "data": {
      "text/plain": [
       "<function matplotlib.pyplot.show(close=None, block=None)>"
      ]
     },
     "execution_count": 44,
     "metadata": {},
     "output_type": "execute_result"
    },
    {
     "data": {
      "image/png": "[encoded data removed]",
      "text/plain": [
       "<Figure size 640x480 with 1 Axes>"
      ]
     },
     "metadata": {},
     "output_type": "display_data"
    }
   ],
   "source": [
    "import matplotlib.pyplot as plt\n",
    "model.eval()\n",
    "data,target = test_data[4]\n",
    "data = data.unsqueeze(0).to(device)\n",
    "output = model(data)\n",
    "prediction = output.argmax(dim= 1,keepdim =True).item()\n",
    "print(f'Prediction : {prediction}')\n",
    "image = data.squeeze(0).squeeze(0).cpu().numpy()\n",
    "plt.imshow(image,cmap = 'gray')\n",
    "plt.show"
   ]
  }
 ],
 "metadata": {
  "kernelspec": {
   "display_name": "Python 3",
   "language": "python",
   "name": "python3"
  },
  "language_info": {
   "codemirror_mode": {
    "name": "ipython",
    "version": 3
   },
   "file_extension": ".py",
   "mimetype": "text/x-python",
   "name": "python",
   "nbconvert_exporter": "python",
   "pygments_lexer": "ipython3",
   "version": "3.11.1"
  }
 },
 "nbformat": 4,
 "nbformat_minor": 2
}
